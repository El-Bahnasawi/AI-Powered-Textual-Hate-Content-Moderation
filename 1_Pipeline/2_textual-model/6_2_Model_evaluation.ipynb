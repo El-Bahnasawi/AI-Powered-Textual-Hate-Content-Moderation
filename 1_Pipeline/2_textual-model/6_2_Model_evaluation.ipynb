{
 "cells": [
  {
   "cell_type": "code",
   "execution_count": 1,
   "id": "0def08e6",
   "metadata": {},
   "outputs": [],
   "source": [
    "import torch\n",
    "from transformers import AutoModelForSequenceClassification, AutoTokenizer, BitsAndBytesConfig\n",
    "import wandb\n",
    "from tabulate import tabulate"
   ]
  },
  {
   "cell_type": "markdown",
   "id": "8bd94f4e",
   "metadata": {},
   "source": [
    "## Uploading files to HF"
   ]
  },
  {
   "cell_type": "code",
   "execution_count": 2,
   "id": "1211bb5c",
   "metadata": {},
   "outputs": [],
   "source": [
    "import os\n",
    "from huggingface_hub import login\n",
    "token = os.getenv(\"HUGGINGFACE_TOKEN\")\n",
    "login(token=token)"
   ]
  },
  {
   "cell_type": "code",
   "execution_count": 3,
   "id": "d46c49b5",
   "metadata": {},
   "outputs": [],
   "source": [
    "# from transformers import AutoModelForSequenceClassification, AutoTokenizer\n",
    "# import wandb\n",
    "\n",
    "# # Step 1: Get the model from W&B artifact\n",
    "# run = wandb.init()\n",
    "# artifact = run.use_artifact(\n",
    "#     \"medoxz543-zewail-city-of-science-and-technology/bertweet-lora-bayes-v2/final_model:v5\",\n",
    "#     type=\"model\"\n",
    "# )\n",
    "# artifact_dir = artifact.download()\n",
    "\n",
    "# # Step 2: Load model and tokenizer\n",
    "# model = AutoModelForSequenceClassification.from_pretrained(artifact_dir)\n",
    "# tokenizer = AutoTokenizer.from_pretrained(\"vinai/bertweet-base\")\n",
    "\n",
    "# # Step 3: Save them in .bin format (NOT safetensors)\n",
    "# model.save_pretrained(\"./hf_model_bin\", safe_serialization=False)\n",
    "# tokenizer.save_pretrained(\"./hf_model_bin\")"
   ]
  },
  {
   "cell_type": "code",
   "execution_count": 4,
   "id": "f4253cbd",
   "metadata": {},
   "outputs": [],
   "source": [
    "# from huggingface_hub import upload_folder\n",
    "\n",
    "# upload_folder(\n",
    "#     repo_id=\"medoxz543/hate-speech\",\n",
    "#     folder_path=\"./hf_model_bin\",\n",
    "#     commit_message=\"✅ Uploading model in .bin format for Inference API\"\n",
    "# )"
   ]
  },
  {
   "cell_type": "markdown",
   "id": "a5e745ea",
   "metadata": {},
   "source": [
    "## Testing HF endpoint"
   ]
  },
  {
   "cell_type": "code",
   "execution_count": 4,
   "id": "b822af55",
   "metadata": {},
   "outputs": [
    {
     "name": "stdout",
     "output_type": "stream",
     "text": [
      "✅ Prediction Response: {'timestamp': '2025-05-27T14:34:30', 'results': [{'blur': True, 'score': 0.9555}, {'blur': False, 'score': 0.0067}, {'blur': False, 'score': 0.23}, {'blur': True, 'score': 0.9063}]}\n",
      "⏱️ Inference Time: 4.291 seconds\n"
     ]
    }
   ],
   "source": [
    "import requests\n",
    "import time\n",
    "\n",
    "API_URL = \"https://medoxz543-hate-endpoint.hf.space/check-text\"\n",
    "HEADERS = {\"Content-Type\": \"application/json\"}\n",
    "\n",
    "sample_payload = {\n",
    "    \"texts\": [\n",
    "        \"Jews are killers. We should kill them all\",\n",
    "        \"Have a nice day!\",\n",
    "        \"Go back to where you came from.\",\n",
    "        \"Women are nasty creatures.\"\n",
    "    ]\n",
    "}\n",
    "\n",
    "start_time = time.time()\n",
    "\n",
    "try:\n",
    "    response = requests.post(API_URL, headers=HEADERS, json=sample_payload)\n",
    "    response.raise_for_status()\n",
    "    elapsed = time.time() - start_time\n",
    "\n",
    "    print(\"✅ Prediction Response:\", response.json())\n",
    "    print(f\"⏱️ Inference Time: {elapsed:.3f} seconds\")\n",
    "\n",
    "except requests.exceptions.RequestException as e:\n",
    "    elapsed = time.time() - start_time\n",
    "    print(\"❌ Failed to call API:\", e)\n",
    "    print(f\"⏱️ Elapsed Time: {elapsed:.3f} seconds\")\n",
    "    if response is not None:\n",
    "        print(\"Response text:\", response.text)"
   ]
  },
  {
   "cell_type": "code",
   "execution_count": 6,
   "id": "3d2c5fa5",
   "metadata": {},
   "outputs": [
    {
     "name": "stdout",
     "output_type": "stream",
     "text": [
      "✅ Log Response: {'logged': True}\n",
      "⏱️ Logged Inference Time: 1.615 seconds\n"
     ]
    }
   ],
   "source": [
    "import requests\n",
    "import time\n",
    "\n",
    "API_URL = \"https://medoxz543-hate-endpoint.hf.space/log-results\"\n",
    "HEADERS = {\"Content-Type\": \"application/json\"}\n",
    "\n",
    "sample_payload = {\n",
    "    \"texts\": [\n",
    "        \"You're such a loser.\",\n",
    "        \"Have a nice day!\",\n",
    "        \"Go back to where you came from.\",\n",
    "        \"Your work is brilliant, truly impressive!\"\n",
    "    ]\n",
    "}\n",
    "\n",
    "start_time = time.time()\n",
    "\n",
    "try:\n",
    "    response = requests.post(API_URL, headers=HEADERS, json=sample_payload)\n",
    "    response.raise_for_status()\n",
    "    elapsed = time.time() - start_time\n",
    "\n",
    "    print(\"✅ Log Response:\", response.json())\n",
    "    print(f\"⏱️ Logged Inference Time: {elapsed:.3f} seconds\")\n",
    "\n",
    "except requests.exceptions.RequestException as e:\n",
    "    elapsed = time.time() - start_time\n",
    "    print(\"❌ Failed to log results:\", e)\n",
    "    print(f\"⏱️ Elapsed Time: {elapsed:.3f} seconds\")\n",
    "    if response is not None:\n",
    "        print(\"Response text:\", response.text)\n"
   ]
  },
  {
   "cell_type": "markdown",
   "id": "ac9a185d",
   "metadata": {},
   "source": [
    "## The sample comparison method"
   ]
  },
  {
   "cell_type": "code",
   "execution_count": 1,
   "id": "3db64608",
   "metadata": {},
   "outputs": [],
   "source": [
    "from model_eval import CASE_STUDY"
   ]
  },
  {
   "cell_type": "code",
   "execution_count": 2,
   "id": "47b49c8f",
   "metadata": {},
   "outputs": [
    {
     "name": "stdout",
     "output_type": "stream",
     "text": [
      "Evaluating model: Hate-speech-CNERG/dehatebert-mono-english\n",
      "Evaluating model: ctoraman/hate-speech-bert\n",
      "Evaluating model: facebook/roberta-hate-speech-dynabench-r4-target\n",
      "Evaluating model: cardiffnlp/twitter-roberta-base-offensive\n",
      "Evaluating model: cardiffnlp/twitter-roberta-base-hate-latest\n",
      "Evaluating model: medoxz543/hate-speech\n"
     ]
    }
   ],
   "source": [
    "cs = CASE_STUDY()\n",
    "# cs.describe_df()\n",
    "cs.populate_df()"
   ]
  },
  {
   "cell_type": "code",
   "execution_count": 3,
   "id": "34d010ec",
   "metadata": {},
   "outputs": [
    {
     "data": {
      "text/html": [
       "<div>\n",
       "<style scoped>\n",
       "    .dataframe tbody tr th:only-of-type {\n",
       "        vertical-align: middle;\n",
       "    }\n",
       "\n",
       "    .dataframe tbody tr th {\n",
       "        vertical-align: top;\n",
       "    }\n",
       "\n",
       "    .dataframe thead th {\n",
       "        text-align: right;\n",
       "    }\n",
       "</style>\n",
       "<table border=\"1\" class=\"dataframe\">\n",
       "  <thead>\n",
       "    <tr style=\"text-align: right;\">\n",
       "      <th></th>\n",
       "      <th>ableism</th>\n",
       "      <th>anti_lgbtq</th>\n",
       "      <th>dehumanization</th>\n",
       "      <th>islamophobia</th>\n",
       "      <th>not_hateful</th>\n",
       "      <th>other_religion_hate</th>\n",
       "      <th>political_hate</th>\n",
       "      <th>racism</th>\n",
       "      <th>sexism</th>\n",
       "      <th>socioeconomic_hate</th>\n",
       "      <th>xenophobia</th>\n",
       "      <th>hate_avg</th>\n",
       "    </tr>\n",
       "  </thead>\n",
       "  <tbody>\n",
       "    <tr>\n",
       "      <th>Hate-speech-CNERG/dehatebert-mono-english</th>\n",
       "      <td>0.00</td>\n",
       "      <td>0.05</td>\n",
       "      <td>0.35</td>\n",
       "      <td>0.20</td>\n",
       "      <td>0.95</td>\n",
       "      <td>0.05</td>\n",
       "      <td>0.20</td>\n",
       "      <td>0.15</td>\n",
       "      <td>0.05</td>\n",
       "      <td>0.30</td>\n",
       "      <td>0.30</td>\n",
       "      <td>0.16</td>\n",
       "    </tr>\n",
       "    <tr>\n",
       "      <th>ctoraman/hate-speech-bert</th>\n",
       "      <td>0.15</td>\n",
       "      <td>0.15</td>\n",
       "      <td>0.40</td>\n",
       "      <td>0.05</td>\n",
       "      <td>1.00</td>\n",
       "      <td>0.35</td>\n",
       "      <td>0.45</td>\n",
       "      <td>0.20</td>\n",
       "      <td>0.00</td>\n",
       "      <td>0.35</td>\n",
       "      <td>0.05</td>\n",
       "      <td>0.21</td>\n",
       "    </tr>\n",
       "    <tr>\n",
       "      <th>facebook/roberta-hate-speech-dynabench-r4-target</th>\n",
       "      <td>0.30</td>\n",
       "      <td>0.55</td>\n",
       "      <td>0.00</td>\n",
       "      <td>0.90</td>\n",
       "      <td>1.00</td>\n",
       "      <td>0.90</td>\n",
       "      <td>0.10</td>\n",
       "      <td>0.50</td>\n",
       "      <td>0.70</td>\n",
       "      <td>0.25</td>\n",
       "      <td>0.50</td>\n",
       "      <td>0.47</td>\n",
       "    </tr>\n",
       "    <tr>\n",
       "      <th>cardiffnlp/twitter-roberta-base-offensive</th>\n",
       "      <td>0.40</td>\n",
       "      <td>0.70</td>\n",
       "      <td>1.00</td>\n",
       "      <td>0.55</td>\n",
       "      <td>0.95</td>\n",
       "      <td>0.75</td>\n",
       "      <td>0.80</td>\n",
       "      <td>0.70</td>\n",
       "      <td>0.35</td>\n",
       "      <td>0.75</td>\n",
       "      <td>0.30</td>\n",
       "      <td>0.63</td>\n",
       "    </tr>\n",
       "    <tr>\n",
       "      <th>cardiffnlp/twitter-roberta-base-hate-latest</th>\n",
       "      <td>0.05</td>\n",
       "      <td>0.10</td>\n",
       "      <td>0.30</td>\n",
       "      <td>0.40</td>\n",
       "      <td>1.00</td>\n",
       "      <td>0.20</td>\n",
       "      <td>0.30</td>\n",
       "      <td>0.20</td>\n",
       "      <td>0.60</td>\n",
       "      <td>0.10</td>\n",
       "      <td>0.40</td>\n",
       "      <td>0.27</td>\n",
       "    </tr>\n",
       "    <tr>\n",
       "      <th>medoxz543/hate-speech</th>\n",
       "      <td>0.25</td>\n",
       "      <td>0.35</td>\n",
       "      <td>0.40</td>\n",
       "      <td>0.65</td>\n",
       "      <td>1.00</td>\n",
       "      <td>0.65</td>\n",
       "      <td>0.45</td>\n",
       "      <td>0.60</td>\n",
       "      <td>0.65</td>\n",
       "      <td>0.25</td>\n",
       "      <td>0.40</td>\n",
       "      <td>0.47</td>\n",
       "    </tr>\n",
       "  </tbody>\n",
       "</table>\n",
       "</div>"
      ],
      "text/plain": [
       "                                                  ableism  anti_lgbtq  \\\n",
       "Hate-speech-CNERG/dehatebert-mono-english            0.00        0.05   \n",
       "ctoraman/hate-speech-bert                            0.15        0.15   \n",
       "facebook/roberta-hate-speech-dynabench-r4-target     0.30        0.55   \n",
       "cardiffnlp/twitter-roberta-base-offensive            0.40        0.70   \n",
       "cardiffnlp/twitter-roberta-base-hate-latest          0.05        0.10   \n",
       "medoxz543/hate-speech                                0.25        0.35   \n",
       "\n",
       "                                                  dehumanization  \\\n",
       "Hate-speech-CNERG/dehatebert-mono-english                   0.35   \n",
       "ctoraman/hate-speech-bert                                   0.40   \n",
       "facebook/roberta-hate-speech-dynabench-r4-target            0.00   \n",
       "cardiffnlp/twitter-roberta-base-offensive                   1.00   \n",
       "cardiffnlp/twitter-roberta-base-hate-latest                 0.30   \n",
       "medoxz543/hate-speech                                       0.40   \n",
       "\n",
       "                                                  islamophobia  not_hateful  \\\n",
       "Hate-speech-CNERG/dehatebert-mono-english                 0.20         0.95   \n",
       "ctoraman/hate-speech-bert                                 0.05         1.00   \n",
       "facebook/roberta-hate-speech-dynabench-r4-target          0.90         1.00   \n",
       "cardiffnlp/twitter-roberta-base-offensive                 0.55         0.95   \n",
       "cardiffnlp/twitter-roberta-base-hate-latest               0.40         1.00   \n",
       "medoxz543/hate-speech                                     0.65         1.00   \n",
       "\n",
       "                                                  other_religion_hate  \\\n",
       "Hate-speech-CNERG/dehatebert-mono-english                        0.05   \n",
       "ctoraman/hate-speech-bert                                        0.35   \n",
       "facebook/roberta-hate-speech-dynabench-r4-target                 0.90   \n",
       "cardiffnlp/twitter-roberta-base-offensive                        0.75   \n",
       "cardiffnlp/twitter-roberta-base-hate-latest                      0.20   \n",
       "medoxz543/hate-speech                                            0.65   \n",
       "\n",
       "                                                  political_hate  racism  \\\n",
       "Hate-speech-CNERG/dehatebert-mono-english                   0.20    0.15   \n",
       "ctoraman/hate-speech-bert                                   0.45    0.20   \n",
       "facebook/roberta-hate-speech-dynabench-r4-target            0.10    0.50   \n",
       "cardiffnlp/twitter-roberta-base-offensive                   0.80    0.70   \n",
       "cardiffnlp/twitter-roberta-base-hate-latest                 0.30    0.20   \n",
       "medoxz543/hate-speech                                       0.45    0.60   \n",
       "\n",
       "                                                  sexism  socioeconomic_hate  \\\n",
       "Hate-speech-CNERG/dehatebert-mono-english           0.05                0.30   \n",
       "ctoraman/hate-speech-bert                           0.00                0.35   \n",
       "facebook/roberta-hate-speech-dynabench-r4-target    0.70                0.25   \n",
       "cardiffnlp/twitter-roberta-base-offensive           0.35                0.75   \n",
       "cardiffnlp/twitter-roberta-base-hate-latest         0.60                0.10   \n",
       "medoxz543/hate-speech                               0.65                0.25   \n",
       "\n",
       "                                                  xenophobia  hate_avg  \n",
       "Hate-speech-CNERG/dehatebert-mono-english               0.30      0.16  \n",
       "ctoraman/hate-speech-bert                               0.05      0.21  \n",
       "facebook/roberta-hate-speech-dynabench-r4-target        0.50      0.47  \n",
       "cardiffnlp/twitter-roberta-base-offensive               0.30      0.63  \n",
       "cardiffnlp/twitter-roberta-base-hate-latest             0.40      0.27  \n",
       "medoxz543/hate-speech                                   0.40      0.47  "
      ]
     },
     "execution_count": 3,
     "metadata": {},
     "output_type": "execute_result"
    }
   ],
   "source": [
    "cs.pivot_df"
   ]
  },
  {
   "cell_type": "code",
   "execution_count": 4,
   "id": "b68fa5b0",
   "metadata": {},
   "outputs": [
    {
     "data": {
      "application/vnd.plotly.v1+json": {
       "config": {
        "plotlyServerURL": "https://plot.ly"
       },
       "data": [
        {
         "alignmentgroup": "True",
         "hovertemplate": "Category=not_hateful<br>Model=%{x}<br>Accuracy=%{text}<extra></extra>",
         "legendgroup": "not_hateful",
         "marker": {
          "color": "#636efa",
          "pattern": {
           "shape": ""
          }
         },
         "name": "not_hateful",
         "offsetgroup": "not_hateful",
         "orientation": "v",
         "showlegend": true,
         "text": [
          0.95,
          1,
          1,
          0.95,
          1,
          1
         ],
         "textposition": "auto",
         "type": "bar",
         "x": [
          "Hate-speech-CNERG/dehatebert-mono-english",
          "ctoraman/hate-speech-bert",
          "facebook/roberta-hate-speech-dynabench-r4-target",
          "cardiffnlp/twitter-roberta-base-offensive",
          "cardiffnlp/twitter-roberta-base-hate-latest",
          "medoxz543/hate-speech"
         ],
         "xaxis": "x",
         "y": [
          0.95,
          1,
          1,
          0.95,
          1,
          1
         ],
         "yaxis": "y"
        },
        {
         "alignmentgroup": "True",
         "hovertemplate": "Category=hate_avg<br>Model=%{x}<br>Accuracy=%{text}<extra></extra>",
         "legendgroup": "hate_avg",
         "marker": {
          "color": "#EF553B",
          "pattern": {
           "shape": ""
          }
         },
         "name": "hate_avg",
         "offsetgroup": "hate_avg",
         "orientation": "v",
         "showlegend": true,
         "text": [
          0.16,
          0.21,
          0.47,
          0.63,
          0.27,
          0.47
         ],
         "textposition": "auto",
         "type": "bar",
         "x": [
          "Hate-speech-CNERG/dehatebert-mono-english",
          "ctoraman/hate-speech-bert",
          "facebook/roberta-hate-speech-dynabench-r4-target",
          "cardiffnlp/twitter-roberta-base-offensive",
          "cardiffnlp/twitter-roberta-base-hate-latest",
          "medoxz543/hate-speech"
         ],
         "xaxis": "x",
         "y": [
          0.16,
          0.21,
          0.47,
          0.63,
          0.27,
          0.47
         ],
         "yaxis": "y"
        }
       ],
       "layout": {
        "barmode": "group",
        "legend": {
         "title": {
          "text": "Category"
         },
         "tracegroupgap": 0
        },
        "template": {
         "data": {
          "bar": [
           {
            "error_x": {
             "color": "#2a3f5f"
            },
            "error_y": {
             "color": "#2a3f5f"
            },
            "marker": {
             "line": {
              "color": "#E5ECF6",
              "width": 0.5
             },
             "pattern": {
              "fillmode": "overlay",
              "size": 10,
              "solidity": 0.2
             }
            },
            "type": "bar"
           }
          ],
          "barpolar": [
           {
            "marker": {
             "line": {
              "color": "#E5ECF6",
              "width": 0.5
             },
             "pattern": {
              "fillmode": "overlay",
              "size": 10,
              "solidity": 0.2
             }
            },
            "type": "barpolar"
           }
          ],
          "carpet": [
           {
            "aaxis": {
             "endlinecolor": "#2a3f5f",
             "gridcolor": "white",
             "linecolor": "white",
             "minorgridcolor": "white",
             "startlinecolor": "#2a3f5f"
            },
            "baxis": {
             "endlinecolor": "#2a3f5f",
             "gridcolor": "white",
             "linecolor": "white",
             "minorgridcolor": "white",
             "startlinecolor": "#2a3f5f"
            },
            "type": "carpet"
           }
          ],
          "choropleth": [
           {
            "colorbar": {
             "outlinewidth": 0,
             "ticks": ""
            },
            "type": "choropleth"
           }
          ],
          "contour": [
           {
            "colorbar": {
             "outlinewidth": 0,
             "ticks": ""
            },
            "colorscale": [
             [
              0,
              "#0d0887"
             ],
             [
              0.1111111111111111,
              "#46039f"
             ],
             [
              0.2222222222222222,
              "#7201a8"
             ],
             [
              0.3333333333333333,
              "#9c179e"
             ],
             [
              0.4444444444444444,
              "#bd3786"
             ],
             [
              0.5555555555555556,
              "#d8576b"
             ],
             [
              0.6666666666666666,
              "#ed7953"
             ],
             [
              0.7777777777777778,
              "#fb9f3a"
             ],
             [
              0.8888888888888888,
              "#fdca26"
             ],
             [
              1,
              "#f0f921"
             ]
            ],
            "type": "contour"
           }
          ],
          "contourcarpet": [
           {
            "colorbar": {
             "outlinewidth": 0,
             "ticks": ""
            },
            "type": "contourcarpet"
           }
          ],
          "heatmap": [
           {
            "colorbar": {
             "outlinewidth": 0,
             "ticks": ""
            },
            "colorscale": [
             [
              0,
              "#0d0887"
             ],
             [
              0.1111111111111111,
              "#46039f"
             ],
             [
              0.2222222222222222,
              "#7201a8"
             ],
             [
              0.3333333333333333,
              "#9c179e"
             ],
             [
              0.4444444444444444,
              "#bd3786"
             ],
             [
              0.5555555555555556,
              "#d8576b"
             ],
             [
              0.6666666666666666,
              "#ed7953"
             ],
             [
              0.7777777777777778,
              "#fb9f3a"
             ],
             [
              0.8888888888888888,
              "#fdca26"
             ],
             [
              1,
              "#f0f921"
             ]
            ],
            "type": "heatmap"
           }
          ],
          "heatmapgl": [
           {
            "colorbar": {
             "outlinewidth": 0,
             "ticks": ""
            },
            "colorscale": [
             [
              0,
              "#0d0887"
             ],
             [
              0.1111111111111111,
              "#46039f"
             ],
             [
              0.2222222222222222,
              "#7201a8"
             ],
             [
              0.3333333333333333,
              "#9c179e"
             ],
             [
              0.4444444444444444,
              "#bd3786"
             ],
             [
              0.5555555555555556,
              "#d8576b"
             ],
             [
              0.6666666666666666,
              "#ed7953"
             ],
             [
              0.7777777777777778,
              "#fb9f3a"
             ],
             [
              0.8888888888888888,
              "#fdca26"
             ],
             [
              1,
              "#f0f921"
             ]
            ],
            "type": "heatmapgl"
           }
          ],
          "histogram": [
           {
            "marker": {
             "pattern": {
              "fillmode": "overlay",
              "size": 10,
              "solidity": 0.2
             }
            },
            "type": "histogram"
           }
          ],
          "histogram2d": [
           {
            "colorbar": {
             "outlinewidth": 0,
             "ticks": ""
            },
            "colorscale": [
             [
              0,
              "#0d0887"
             ],
             [
              0.1111111111111111,
              "#46039f"
             ],
             [
              0.2222222222222222,
              "#7201a8"
             ],
             [
              0.3333333333333333,
              "#9c179e"
             ],
             [
              0.4444444444444444,
              "#bd3786"
             ],
             [
              0.5555555555555556,
              "#d8576b"
             ],
             [
              0.6666666666666666,
              "#ed7953"
             ],
             [
              0.7777777777777778,
              "#fb9f3a"
             ],
             [
              0.8888888888888888,
              "#fdca26"
             ],
             [
              1,
              "#f0f921"
             ]
            ],
            "type": "histogram2d"
           }
          ],
          "histogram2dcontour": [
           {
            "colorbar": {
             "outlinewidth": 0,
             "ticks": ""
            },
            "colorscale": [
             [
              0,
              "#0d0887"
             ],
             [
              0.1111111111111111,
              "#46039f"
             ],
             [
              0.2222222222222222,
              "#7201a8"
             ],
             [
              0.3333333333333333,
              "#9c179e"
             ],
             [
              0.4444444444444444,
              "#bd3786"
             ],
             [
              0.5555555555555556,
              "#d8576b"
             ],
             [
              0.6666666666666666,
              "#ed7953"
             ],
             [
              0.7777777777777778,
              "#fb9f3a"
             ],
             [
              0.8888888888888888,
              "#fdca26"
             ],
             [
              1,
              "#f0f921"
             ]
            ],
            "type": "histogram2dcontour"
           }
          ],
          "mesh3d": [
           {
            "colorbar": {
             "outlinewidth": 0,
             "ticks": ""
            },
            "type": "mesh3d"
           }
          ],
          "parcoords": [
           {
            "line": {
             "colorbar": {
              "outlinewidth": 0,
              "ticks": ""
             }
            },
            "type": "parcoords"
           }
          ],
          "pie": [
           {
            "automargin": true,
            "type": "pie"
           }
          ],
          "scatter": [
           {
            "fillpattern": {
             "fillmode": "overlay",
             "size": 10,
             "solidity": 0.2
            },
            "type": "scatter"
           }
          ],
          "scatter3d": [
           {
            "line": {
             "colorbar": {
              "outlinewidth": 0,
              "ticks": ""
             }
            },
            "marker": {
             "colorbar": {
              "outlinewidth": 0,
              "ticks": ""
             }
            },
            "type": "scatter3d"
           }
          ],
          "scattercarpet": [
           {
            "marker": {
             "colorbar": {
              "outlinewidth": 0,
              "ticks": ""
             }
            },
            "type": "scattercarpet"
           }
          ],
          "scattergeo": [
           {
            "marker": {
             "colorbar": {
              "outlinewidth": 0,
              "ticks": ""
             }
            },
            "type": "scattergeo"
           }
          ],
          "scattergl": [
           {
            "marker": {
             "colorbar": {
              "outlinewidth": 0,
              "ticks": ""
             }
            },
            "type": "scattergl"
           }
          ],
          "scattermapbox": [
           {
            "marker": {
             "colorbar": {
              "outlinewidth": 0,
              "ticks": ""
             }
            },
            "type": "scattermapbox"
           }
          ],
          "scatterpolar": [
           {
            "marker": {
             "colorbar": {
              "outlinewidth": 0,
              "ticks": ""
             }
            },
            "type": "scatterpolar"
           }
          ],
          "scatterpolargl": [
           {
            "marker": {
             "colorbar": {
              "outlinewidth": 0,
              "ticks": ""
             }
            },
            "type": "scatterpolargl"
           }
          ],
          "scatterternary": [
           {
            "marker": {
             "colorbar": {
              "outlinewidth": 0,
              "ticks": ""
             }
            },
            "type": "scatterternary"
           }
          ],
          "surface": [
           {
            "colorbar": {
             "outlinewidth": 0,
             "ticks": ""
            },
            "colorscale": [
             [
              0,
              "#0d0887"
             ],
             [
              0.1111111111111111,
              "#46039f"
             ],
             [
              0.2222222222222222,
              "#7201a8"
             ],
             [
              0.3333333333333333,
              "#9c179e"
             ],
             [
              0.4444444444444444,
              "#bd3786"
             ],
             [
              0.5555555555555556,
              "#d8576b"
             ],
             [
              0.6666666666666666,
              "#ed7953"
             ],
             [
              0.7777777777777778,
              "#fb9f3a"
             ],
             [
              0.8888888888888888,
              "#fdca26"
             ],
             [
              1,
              "#f0f921"
             ]
            ],
            "type": "surface"
           }
          ],
          "table": [
           {
            "cells": {
             "fill": {
              "color": "#EBF0F8"
             },
             "line": {
              "color": "white"
             }
            },
            "header": {
             "fill": {
              "color": "#C8D4E3"
             },
             "line": {
              "color": "white"
             }
            },
            "type": "table"
           }
          ]
         },
         "layout": {
          "annotationdefaults": {
           "arrowcolor": "#2a3f5f",
           "arrowhead": 0,
           "arrowwidth": 1
          },
          "autotypenumbers": "strict",
          "coloraxis": {
           "colorbar": {
            "outlinewidth": 0,
            "ticks": ""
           }
          },
          "colorscale": {
           "diverging": [
            [
             0,
             "#8e0152"
            ],
            [
             0.1,
             "#c51b7d"
            ],
            [
             0.2,
             "#de77ae"
            ],
            [
             0.3,
             "#f1b6da"
            ],
            [
             0.4,
             "#fde0ef"
            ],
            [
             0.5,
             "#f7f7f7"
            ],
            [
             0.6,
             "#e6f5d0"
            ],
            [
             0.7,
             "#b8e186"
            ],
            [
             0.8,
             "#7fbc41"
            ],
            [
             0.9,
             "#4d9221"
            ],
            [
             1,
             "#276419"
            ]
           ],
           "sequential": [
            [
             0,
             "#0d0887"
            ],
            [
             0.1111111111111111,
             "#46039f"
            ],
            [
             0.2222222222222222,
             "#7201a8"
            ],
            [
             0.3333333333333333,
             "#9c179e"
            ],
            [
             0.4444444444444444,
             "#bd3786"
            ],
            [
             0.5555555555555556,
             "#d8576b"
            ],
            [
             0.6666666666666666,
             "#ed7953"
            ],
            [
             0.7777777777777778,
             "#fb9f3a"
            ],
            [
             0.8888888888888888,
             "#fdca26"
            ],
            [
             1,
             "#f0f921"
            ]
           ],
           "sequentialminus": [
            [
             0,
             "#0d0887"
            ],
            [
             0.1111111111111111,
             "#46039f"
            ],
            [
             0.2222222222222222,
             "#7201a8"
            ],
            [
             0.3333333333333333,
             "#9c179e"
            ],
            [
             0.4444444444444444,
             "#bd3786"
            ],
            [
             0.5555555555555556,
             "#d8576b"
            ],
            [
             0.6666666666666666,
             "#ed7953"
            ],
            [
             0.7777777777777778,
             "#fb9f3a"
            ],
            [
             0.8888888888888888,
             "#fdca26"
            ],
            [
             1,
             "#f0f921"
            ]
           ]
          },
          "colorway": [
           "#636efa",
           "#EF553B",
           "#00cc96",
           "#ab63fa",
           "#FFA15A",
           "#19d3f3",
           "#FF6692",
           "#B6E880",
           "#FF97FF",
           "#FECB52"
          ],
          "font": {
           "color": "#2a3f5f"
          },
          "geo": {
           "bgcolor": "white",
           "lakecolor": "white",
           "landcolor": "#E5ECF6",
           "showlakes": true,
           "showland": true,
           "subunitcolor": "white"
          },
          "hoverlabel": {
           "align": "left"
          },
          "hovermode": "closest",
          "mapbox": {
           "style": "light"
          },
          "paper_bgcolor": "white",
          "plot_bgcolor": "#E5ECF6",
          "polar": {
           "angularaxis": {
            "gridcolor": "white",
            "linecolor": "white",
            "ticks": ""
           },
           "bgcolor": "#E5ECF6",
           "radialaxis": {
            "gridcolor": "white",
            "linecolor": "white",
            "ticks": ""
           }
          },
          "scene": {
           "xaxis": {
            "backgroundcolor": "#E5ECF6",
            "gridcolor": "white",
            "gridwidth": 2,
            "linecolor": "white",
            "showbackground": true,
            "ticks": "",
            "zerolinecolor": "white"
           },
           "yaxis": {
            "backgroundcolor": "#E5ECF6",
            "gridcolor": "white",
            "gridwidth": 2,
            "linecolor": "white",
            "showbackground": true,
            "ticks": "",
            "zerolinecolor": "white"
           },
           "zaxis": {
            "backgroundcolor": "#E5ECF6",
            "gridcolor": "white",
            "gridwidth": 2,
            "linecolor": "white",
            "showbackground": true,
            "ticks": "",
            "zerolinecolor": "white"
           }
          },
          "shapedefaults": {
           "line": {
            "color": "#2a3f5f"
           }
          },
          "ternary": {
           "aaxis": {
            "gridcolor": "white",
            "linecolor": "white",
            "ticks": ""
           },
           "baxis": {
            "gridcolor": "white",
            "linecolor": "white",
            "ticks": ""
           },
           "bgcolor": "#E5ECF6",
           "caxis": {
            "gridcolor": "white",
            "linecolor": "white",
            "ticks": ""
           }
          },
          "title": {
           "x": 0.05
          },
          "xaxis": {
           "automargin": true,
           "gridcolor": "white",
           "linecolor": "white",
           "ticks": "",
           "title": {
            "standoff": 15
           },
           "zerolinecolor": "white",
           "zerolinewidth": 2
          },
          "yaxis": {
           "automargin": true,
           "gridcolor": "white",
           "linecolor": "white",
           "ticks": "",
           "title": {
            "standoff": 15
           },
           "zerolinecolor": "white",
           "zerolinewidth": 2
          }
         }
        },
        "title": {
         "text": "Model Accuracy: Not Hateful vs. Hate Avg"
        },
        "xaxis": {
         "anchor": "y",
         "domain": [
          0,
          1
         ],
         "tickangle": -30,
         "title": {
          "text": "Model"
         }
        },
        "yaxis": {
         "anchor": "x",
         "domain": [
          0,
          1
         ],
         "title": {
          "text": "Accuracy"
         }
        }
       }
      }
     },
     "metadata": {},
     "output_type": "display_data"
    }
   ],
   "source": [
    "cs.show_nonhate_and_hate()"
   ]
  },
  {
   "cell_type": "code",
   "execution_count": 5,
   "id": "a0fe39a5",
   "metadata": {},
   "outputs": [
    {
     "data": {
      "application/vnd.plotly.v1+json": {
       "config": {
        "plotlyServerURL": "https://plot.ly"
       },
       "data": [
        {
         "coloraxis": "coloraxis",
         "hovertemplate": "Hate Category: %{x}<br>Model: %{y}<br>Accuracy: %{z}<extra></extra>",
         "name": "0",
         "texttemplate": "%{z}",
         "type": "heatmap",
         "x": [
          "ableism",
          "anti_lgbtq",
          "dehumanization",
          "islamophobia",
          "other_religion_hate",
          "political_hate",
          "racism",
          "sexism",
          "socioeconomic_hate",
          "xenophobia"
         ],
         "xaxis": "x",
         "y": [
          "Hate-speech-CNERG/dehatebert-mono-english",
          "ctoraman/hate-speech-bert",
          "facebook/roberta-hate-speech-dynabench-r4-target",
          "cardiffnlp/twitter-roberta-base-offensive",
          "cardiffnlp/twitter-roberta-base-hate-latest",
          "medoxz543/hate-speech"
         ],
         "yaxis": "y",
         "z": [
          [
           0,
           0.05,
           0.35,
           0.2,
           0.05,
           0.2,
           0.15,
           0.05,
           0.3,
           0.3
          ],
          [
           0.15,
           0.15,
           0.4,
           0.05,
           0.35,
           0.45,
           0.2,
           0,
           0.35,
           0.05
          ],
          [
           0.3,
           0.55,
           0,
           0.9,
           0.9,
           0.1,
           0.5,
           0.7,
           0.25,
           0.5
          ],
          [
           0.4,
           0.7,
           1,
           0.55,
           0.75,
           0.8,
           0.7,
           0.35,
           0.75,
           0.3
          ],
          [
           0.05,
           0.1,
           0.3,
           0.4,
           0.2,
           0.3,
           0.2,
           0.6,
           0.1,
           0.4
          ],
          [
           0.25,
           0.35,
           0.4,
           0.65,
           0.65,
           0.45,
           0.6,
           0.65,
           0.25,
           0.4
          ]
         ]
        }
       ],
       "layout": {
        "coloraxis": {
         "cmax": 1,
         "cmin": 0,
         "colorbar": {
          "title": {
           "text": "Accuracy"
          }
         },
         "colorscale": [
          [
           0,
           "rgb(103,0,31)"
          ],
          [
           0.1,
           "rgb(178,24,43)"
          ],
          [
           0.2,
           "rgb(214,96,77)"
          ],
          [
           0.3,
           "rgb(244,165,130)"
          ],
          [
           0.4,
           "rgb(253,219,199)"
          ],
          [
           0.5,
           "rgb(247,247,247)"
          ],
          [
           0.6,
           "rgb(209,229,240)"
          ],
          [
           0.7,
           "rgb(146,197,222)"
          ],
          [
           0.8,
           "rgb(67,147,195)"
          ],
          [
           0.9,
           "rgb(33,102,172)"
          ],
          [
           1,
           "rgb(5,48,97)"
          ]
         ]
        },
        "template": {
         "data": {
          "bar": [
           {
            "error_x": {
             "color": "#2a3f5f"
            },
            "error_y": {
             "color": "#2a3f5f"
            },
            "marker": {
             "line": {
              "color": "#E5ECF6",
              "width": 0.5
             },
             "pattern": {
              "fillmode": "overlay",
              "size": 10,
              "solidity": 0.2
             }
            },
            "type": "bar"
           }
          ],
          "barpolar": [
           {
            "marker": {
             "line": {
              "color": "#E5ECF6",
              "width": 0.5
             },
             "pattern": {
              "fillmode": "overlay",
              "size": 10,
              "solidity": 0.2
             }
            },
            "type": "barpolar"
           }
          ],
          "carpet": [
           {
            "aaxis": {
             "endlinecolor": "#2a3f5f",
             "gridcolor": "white",
             "linecolor": "white",
             "minorgridcolor": "white",
             "startlinecolor": "#2a3f5f"
            },
            "baxis": {
             "endlinecolor": "#2a3f5f",
             "gridcolor": "white",
             "linecolor": "white",
             "minorgridcolor": "white",
             "startlinecolor": "#2a3f5f"
            },
            "type": "carpet"
           }
          ],
          "choropleth": [
           {
            "colorbar": {
             "outlinewidth": 0,
             "ticks": ""
            },
            "type": "choropleth"
           }
          ],
          "contour": [
           {
            "colorbar": {
             "outlinewidth": 0,
             "ticks": ""
            },
            "colorscale": [
             [
              0,
              "#0d0887"
             ],
             [
              0.1111111111111111,
              "#46039f"
             ],
             [
              0.2222222222222222,
              "#7201a8"
             ],
             [
              0.3333333333333333,
              "#9c179e"
             ],
             [
              0.4444444444444444,
              "#bd3786"
             ],
             [
              0.5555555555555556,
              "#d8576b"
             ],
             [
              0.6666666666666666,
              "#ed7953"
             ],
             [
              0.7777777777777778,
              "#fb9f3a"
             ],
             [
              0.8888888888888888,
              "#fdca26"
             ],
             [
              1,
              "#f0f921"
             ]
            ],
            "type": "contour"
           }
          ],
          "contourcarpet": [
           {
            "colorbar": {
             "outlinewidth": 0,
             "ticks": ""
            },
            "type": "contourcarpet"
           }
          ],
          "heatmap": [
           {
            "colorbar": {
             "outlinewidth": 0,
             "ticks": ""
            },
            "colorscale": [
             [
              0,
              "#0d0887"
             ],
             [
              0.1111111111111111,
              "#46039f"
             ],
             [
              0.2222222222222222,
              "#7201a8"
             ],
             [
              0.3333333333333333,
              "#9c179e"
             ],
             [
              0.4444444444444444,
              "#bd3786"
             ],
             [
              0.5555555555555556,
              "#d8576b"
             ],
             [
              0.6666666666666666,
              "#ed7953"
             ],
             [
              0.7777777777777778,
              "#fb9f3a"
             ],
             [
              0.8888888888888888,
              "#fdca26"
             ],
             [
              1,
              "#f0f921"
             ]
            ],
            "type": "heatmap"
           }
          ],
          "heatmapgl": [
           {
            "colorbar": {
             "outlinewidth": 0,
             "ticks": ""
            },
            "colorscale": [
             [
              0,
              "#0d0887"
             ],
             [
              0.1111111111111111,
              "#46039f"
             ],
             [
              0.2222222222222222,
              "#7201a8"
             ],
             [
              0.3333333333333333,
              "#9c179e"
             ],
             [
              0.4444444444444444,
              "#bd3786"
             ],
             [
              0.5555555555555556,
              "#d8576b"
             ],
             [
              0.6666666666666666,
              "#ed7953"
             ],
             [
              0.7777777777777778,
              "#fb9f3a"
             ],
             [
              0.8888888888888888,
              "#fdca26"
             ],
             [
              1,
              "#f0f921"
             ]
            ],
            "type": "heatmapgl"
           }
          ],
          "histogram": [
           {
            "marker": {
             "pattern": {
              "fillmode": "overlay",
              "size": 10,
              "solidity": 0.2
             }
            },
            "type": "histogram"
           }
          ],
          "histogram2d": [
           {
            "colorbar": {
             "outlinewidth": 0,
             "ticks": ""
            },
            "colorscale": [
             [
              0,
              "#0d0887"
             ],
             [
              0.1111111111111111,
              "#46039f"
             ],
             [
              0.2222222222222222,
              "#7201a8"
             ],
             [
              0.3333333333333333,
              "#9c179e"
             ],
             [
              0.4444444444444444,
              "#bd3786"
             ],
             [
              0.5555555555555556,
              "#d8576b"
             ],
             [
              0.6666666666666666,
              "#ed7953"
             ],
             [
              0.7777777777777778,
              "#fb9f3a"
             ],
             [
              0.8888888888888888,
              "#fdca26"
             ],
             [
              1,
              "#f0f921"
             ]
            ],
            "type": "histogram2d"
           }
          ],
          "histogram2dcontour": [
           {
            "colorbar": {
             "outlinewidth": 0,
             "ticks": ""
            },
            "colorscale": [
             [
              0,
              "#0d0887"
             ],
             [
              0.1111111111111111,
              "#46039f"
             ],
             [
              0.2222222222222222,
              "#7201a8"
             ],
             [
              0.3333333333333333,
              "#9c179e"
             ],
             [
              0.4444444444444444,
              "#bd3786"
             ],
             [
              0.5555555555555556,
              "#d8576b"
             ],
             [
              0.6666666666666666,
              "#ed7953"
             ],
             [
              0.7777777777777778,
              "#fb9f3a"
             ],
             [
              0.8888888888888888,
              "#fdca26"
             ],
             [
              1,
              "#f0f921"
             ]
            ],
            "type": "histogram2dcontour"
           }
          ],
          "mesh3d": [
           {
            "colorbar": {
             "outlinewidth": 0,
             "ticks": ""
            },
            "type": "mesh3d"
           }
          ],
          "parcoords": [
           {
            "line": {
             "colorbar": {
              "outlinewidth": 0,
              "ticks": ""
             }
            },
            "type": "parcoords"
           }
          ],
          "pie": [
           {
            "automargin": true,
            "type": "pie"
           }
          ],
          "scatter": [
           {
            "fillpattern": {
             "fillmode": "overlay",
             "size": 10,
             "solidity": 0.2
            },
            "type": "scatter"
           }
          ],
          "scatter3d": [
           {
            "line": {
             "colorbar": {
              "outlinewidth": 0,
              "ticks": ""
             }
            },
            "marker": {
             "colorbar": {
              "outlinewidth": 0,
              "ticks": ""
             }
            },
            "type": "scatter3d"
           }
          ],
          "scattercarpet": [
           {
            "marker": {
             "colorbar": {
              "outlinewidth": 0,
              "ticks": ""
             }
            },
            "type": "scattercarpet"
           }
          ],
          "scattergeo": [
           {
            "marker": {
             "colorbar": {
              "outlinewidth": 0,
              "ticks": ""
             }
            },
            "type": "scattergeo"
           }
          ],
          "scattergl": [
           {
            "marker": {
             "colorbar": {
              "outlinewidth": 0,
              "ticks": ""
             }
            },
            "type": "scattergl"
           }
          ],
          "scattermapbox": [
           {
            "marker": {
             "colorbar": {
              "outlinewidth": 0,
              "ticks": ""
             }
            },
            "type": "scattermapbox"
           }
          ],
          "scatterpolar": [
           {
            "marker": {
             "colorbar": {
              "outlinewidth": 0,
              "ticks": ""
             }
            },
            "type": "scatterpolar"
           }
          ],
          "scatterpolargl": [
           {
            "marker": {
             "colorbar": {
              "outlinewidth": 0,
              "ticks": ""
             }
            },
            "type": "scatterpolargl"
           }
          ],
          "scatterternary": [
           {
            "marker": {
             "colorbar": {
              "outlinewidth": 0,
              "ticks": ""
             }
            },
            "type": "scatterternary"
           }
          ],
          "surface": [
           {
            "colorbar": {
             "outlinewidth": 0,
             "ticks": ""
            },
            "colorscale": [
             [
              0,
              "#0d0887"
             ],
             [
              0.1111111111111111,
              "#46039f"
             ],
             [
              0.2222222222222222,
              "#7201a8"
             ],
             [
              0.3333333333333333,
              "#9c179e"
             ],
             [
              0.4444444444444444,
              "#bd3786"
             ],
             [
              0.5555555555555556,
              "#d8576b"
             ],
             [
              0.6666666666666666,
              "#ed7953"
             ],
             [
              0.7777777777777778,
              "#fb9f3a"
             ],
             [
              0.8888888888888888,
              "#fdca26"
             ],
             [
              1,
              "#f0f921"
             ]
            ],
            "type": "surface"
           }
          ],
          "table": [
           {
            "cells": {
             "fill": {
              "color": "#EBF0F8"
             },
             "line": {
              "color": "white"
             }
            },
            "header": {
             "fill": {
              "color": "#C8D4E3"
             },
             "line": {
              "color": "white"
             }
            },
            "type": "table"
           }
          ]
         },
         "layout": {
          "annotationdefaults": {
           "arrowcolor": "#2a3f5f",
           "arrowhead": 0,
           "arrowwidth": 1
          },
          "autotypenumbers": "strict",
          "coloraxis": {
           "colorbar": {
            "outlinewidth": 0,
            "ticks": ""
           }
          },
          "colorscale": {
           "diverging": [
            [
             0,
             "#8e0152"
            ],
            [
             0.1,
             "#c51b7d"
            ],
            [
             0.2,
             "#de77ae"
            ],
            [
             0.3,
             "#f1b6da"
            ],
            [
             0.4,
             "#fde0ef"
            ],
            [
             0.5,
             "#f7f7f7"
            ],
            [
             0.6,
             "#e6f5d0"
            ],
            [
             0.7,
             "#b8e186"
            ],
            [
             0.8,
             "#7fbc41"
            ],
            [
             0.9,
             "#4d9221"
            ],
            [
             1,
             "#276419"
            ]
           ],
           "sequential": [
            [
             0,
             "#0d0887"
            ],
            [
             0.1111111111111111,
             "#46039f"
            ],
            [
             0.2222222222222222,
             "#7201a8"
            ],
            [
             0.3333333333333333,
             "#9c179e"
            ],
            [
             0.4444444444444444,
             "#bd3786"
            ],
            [
             0.5555555555555556,
             "#d8576b"
            ],
            [
             0.6666666666666666,
             "#ed7953"
            ],
            [
             0.7777777777777778,
             "#fb9f3a"
            ],
            [
             0.8888888888888888,
             "#fdca26"
            ],
            [
             1,
             "#f0f921"
            ]
           ],
           "sequentialminus": [
            [
             0,
             "#0d0887"
            ],
            [
             0.1111111111111111,
             "#46039f"
            ],
            [
             0.2222222222222222,
             "#7201a8"
            ],
            [
             0.3333333333333333,
             "#9c179e"
            ],
            [
             0.4444444444444444,
             "#bd3786"
            ],
            [
             0.5555555555555556,
             "#d8576b"
            ],
            [
             0.6666666666666666,
             "#ed7953"
            ],
            [
             0.7777777777777778,
             "#fb9f3a"
            ],
            [
             0.8888888888888888,
             "#fdca26"
            ],
            [
             1,
             "#f0f921"
            ]
           ]
          },
          "colorway": [
           "#636efa",
           "#EF553B",
           "#00cc96",
           "#ab63fa",
           "#FFA15A",
           "#19d3f3",
           "#FF6692",
           "#B6E880",
           "#FF97FF",
           "#FECB52"
          ],
          "font": {
           "color": "#2a3f5f"
          },
          "geo": {
           "bgcolor": "white",
           "lakecolor": "white",
           "landcolor": "#E5ECF6",
           "showlakes": true,
           "showland": true,
           "subunitcolor": "white"
          },
          "hoverlabel": {
           "align": "left"
          },
          "hovermode": "closest",
          "mapbox": {
           "style": "light"
          },
          "paper_bgcolor": "white",
          "plot_bgcolor": "#E5ECF6",
          "polar": {
           "angularaxis": {
            "gridcolor": "white",
            "linecolor": "white",
            "ticks": ""
           },
           "bgcolor": "#E5ECF6",
           "radialaxis": {
            "gridcolor": "white",
            "linecolor": "white",
            "ticks": ""
           }
          },
          "scene": {
           "xaxis": {
            "backgroundcolor": "#E5ECF6",
            "gridcolor": "white",
            "gridwidth": 2,
            "linecolor": "white",
            "showbackground": true,
            "ticks": "",
            "zerolinecolor": "white"
           },
           "yaxis": {
            "backgroundcolor": "#E5ECF6",
            "gridcolor": "white",
            "gridwidth": 2,
            "linecolor": "white",
            "showbackground": true,
            "ticks": "",
            "zerolinecolor": "white"
           },
           "zaxis": {
            "backgroundcolor": "#E5ECF6",
            "gridcolor": "white",
            "gridwidth": 2,
            "linecolor": "white",
            "showbackground": true,
            "ticks": "",
            "zerolinecolor": "white"
           }
          },
          "shapedefaults": {
           "line": {
            "color": "#2a3f5f"
           }
          },
          "ternary": {
           "aaxis": {
            "gridcolor": "white",
            "linecolor": "white",
            "ticks": ""
           },
           "baxis": {
            "gridcolor": "white",
            "linecolor": "white",
            "ticks": ""
           },
           "bgcolor": "#E5ECF6",
           "caxis": {
            "gridcolor": "white",
            "linecolor": "white",
            "ticks": ""
           }
          },
          "title": {
           "x": 0.05
          },
          "xaxis": {
           "automargin": true,
           "gridcolor": "white",
           "linecolor": "white",
           "ticks": "",
           "title": {
            "standoff": 15
           },
           "zerolinecolor": "white",
           "zerolinewidth": 2
          },
          "yaxis": {
           "automargin": true,
           "gridcolor": "white",
           "linecolor": "white",
           "ticks": "",
           "title": {
            "standoff": 15
           },
           "zerolinecolor": "white",
           "zerolinewidth": 2
          }
         }
        },
        "title": {
         "text": "Per-Category Accuracy Heatmap (Hate Categories Only)"
        },
        "xaxis": {
         "anchor": "y",
         "constrain": "domain",
         "domain": [
          0,
          1
         ],
         "scaleanchor": "y",
         "tickangle": -30,
         "title": {
          "text": "Hate Category"
         }
        },
        "yaxis": {
         "anchor": "x",
         "autorange": "reversed",
         "constrain": "domain",
         "domain": [
          0,
          1
         ],
         "title": {
          "text": "Model"
         }
        }
       }
      }
     },
     "metadata": {},
     "output_type": "display_data"
    }
   ],
   "source": [
    "cs.show_heatmap()"
   ]
  },
  {
   "cell_type": "code",
   "execution_count": null,
   "id": "97eb86ae",
   "metadata": {},
   "outputs": [],
   "source": []
  },
  {
   "cell_type": "code",
   "execution_count": 7,
   "id": "0ead01f8",
   "metadata": {},
   "outputs": [
    {
     "data": {
      "text/html": [
       "<div>\n",
       "<style scoped>\n",
       "    .dataframe tbody tr th:only-of-type {\n",
       "        vertical-align: middle;\n",
       "    }\n",
       "\n",
       "    .dataframe tbody tr th {\n",
       "        vertical-align: top;\n",
       "    }\n",
       "\n",
       "    .dataframe thead th {\n",
       "        text-align: right;\n",
       "    }\n",
       "</style>\n",
       "<table border=\"1\" class=\"dataframe\">\n",
       "  <thead>\n",
       "    <tr style=\"text-align: right;\">\n",
       "      <th></th>\n",
       "      <th>architectures</th>\n",
       "      <th>model_type</th>\n",
       "      <th>hidden_size</th>\n",
       "      <th>num_attention_heads</th>\n",
       "      <th>num_hidden_layers</th>\n",
       "    </tr>\n",
       "  </thead>\n",
       "  <tbody>\n",
       "    <tr>\n",
       "      <th>cardiffnlp/twitter-roberta-base-offensive</th>\n",
       "      <td>[RobertaForSequenceClassification]</td>\n",
       "      <td>roberta</td>\n",
       "      <td>768</td>\n",
       "      <td>12</td>\n",
       "      <td>12</td>\n",
       "    </tr>\n",
       "    <tr>\n",
       "      <th>medoxz543/hate-speech</th>\n",
       "      <td>[RobertaForSequenceClassification]</td>\n",
       "      <td>roberta</td>\n",
       "      <td>768</td>\n",
       "      <td>12</td>\n",
       "      <td>12</td>\n",
       "    </tr>\n",
       "  </tbody>\n",
       "</table>\n",
       "</div>"
      ],
      "text/plain": [
       "                                                                architectures  \\\n",
       "cardiffnlp/twitter-roberta-base-offensive  [RobertaForSequenceClassification]   \n",
       "medoxz543/hate-speech                      [RobertaForSequenceClassification]   \n",
       "\n",
       "                                          model_type hidden_size  \\\n",
       "cardiffnlp/twitter-roberta-base-offensive    roberta         768   \n",
       "medoxz543/hate-speech                        roberta         768   \n",
       "\n",
       "                                          num_attention_heads  \\\n",
       "cardiffnlp/twitter-roberta-base-offensive                  12   \n",
       "medoxz543/hate-speech                                      12   \n",
       "\n",
       "                                          num_hidden_layers  \n",
       "cardiffnlp/twitter-roberta-base-offensive                12  \n",
       "medoxz543/hate-speech                                    12  "
      ]
     },
     "execution_count": 7,
     "metadata": {},
     "output_type": "execute_result"
    }
   ],
   "source": [
    "from transformers import AutoConfig\n",
    "import pandas as pd\n",
    "\n",
    "# Model names\n",
    "model_names = [\n",
    "    \"cardiffnlp/twitter-roberta-base-offensive\",\n",
    "    \"medoxz543/hate-speech\"\n",
    "]\n",
    "\n",
    "# Load configurations only (faster than full model loading)\n",
    "model_configs = {name: AutoConfig.from_pretrained(name) for name in model_names}\n",
    "\n",
    "# Extract relevant architecture information\n",
    "model_arch_info = {\n",
    "    name: {\n",
    "        \"architectures\": config.architectures,\n",
    "        \"model_type\": config.model_type,\n",
    "        \"hidden_size\": config.hidden_size,\n",
    "        \"num_attention_heads\": config.num_attention_heads,\n",
    "        \"num_hidden_layers\": config.num_hidden_layers\n",
    "    }\n",
    "    for name, config in model_configs.items()\n",
    "}\n",
    "\n",
    "# Convert to DataFrame for easy comparison\n",
    "arch_df = pd.DataFrame(model_arch_info).T\n",
    "arch_df\n"
   ]
  },
  {
   "cell_type": "code",
   "execution_count": 8,
   "id": "cb061be5",
   "metadata": {},
   "outputs": [
    {
     "name": "stdout",
     "output_type": "stream",
     "text": [
      "50265 64000\n",
      "1000000000000000019884624838656 1000000000000000019884624838656\n"
     ]
    }
   ],
   "source": [
    "from transformers import AutoTokenizer\n",
    "\n",
    "tok1 = AutoTokenizer.from_pretrained(\"cardiffnlp/twitter-roberta-base-offensive\")\n",
    "tok2 = AutoTokenizer.from_pretrained(\"medoxz543/hate-speech\")\n",
    "\n",
    "print(tok1.vocab_size, tok2.vocab_size)\n",
    "print(tok1.model_max_length, tok2.model_max_length)\n"
   ]
  },
  {
   "cell_type": "code",
   "execution_count": 11,
   "id": "3945d72a",
   "metadata": {},
   "outputs": [
    {
     "name": "stderr",
     "output_type": "stream",
     "text": [
      "Some weights of RobertaModel were not initialized from the model checkpoint at cardiffnlp/twitter-roberta-base-offensive and are newly initialized: ['pooler.dense.bias', 'pooler.dense.weight']\n",
      "You should probably TRAIN this model on a down-stream task to be able to use it for predictions and inference.\n",
      "Some weights of RobertaModel were not initialized from the model checkpoint at medoxz543/hate-speech and are newly initialized: ['pooler.dense.bias', 'pooler.dense.weight']\n",
      "You should probably TRAIN this model on a down-stream task to be able to use it for predictions and inference.\n"
     ]
    },
    {
     "name": "stdout",
     "output_type": "stream",
     "text": [
      "\n",
      "📌 Base Classes\n",
      "RoBERTa base model: <class 'transformers.models.roberta.modeling_roberta.RobertaModel'>\n",
      "BERTweet base model: <class 'transformers.models.roberta.modeling_roberta.RobertaModel'>\n",
      "\n",
      "📌 Number of Parameters\n",
      "RoBERTa total parameters: 124.645632 M\n",
      "BERTweet total parameters: 134.899968 M\n",
      "\n",
      "📌 Core Config Comparison\n",
      "                   hidden_size: RoBERTa=768 | BERTweet=768\n",
      "           num_attention_heads: RoBERTa=12 | BERTweet=12\n",
      "             num_hidden_layers: RoBERTa=12 | BERTweet=12\n",
      "             intermediate_size: RoBERTa=3072 | BERTweet=3072\n",
      "                    vocab_size: RoBERTa=50265 | BERTweet=64001\n",
      "       max_position_embeddings: RoBERTa=514 | BERTweet=130\n",
      "               type_vocab_size: RoBERTa=1 | BERTweet=1\n",
      "                layer_norm_eps: RoBERTa=1e-05 | BERTweet=1e-05\n",
      "\n",
      "📌 Dropout and Activation\n",
      "hidden_dropout_prob    : RoBERTa=0.1 | BERTweet=0.1\n",
      "attention_dropout_prob : RoBERTa=0.1 | BERTweet=0.1\n",
      "hidden_act             : RoBERTa=gelu | BERTweet=gelu\n",
      "\n",
      "📌 Positional Embeddings Type (RoBERTa has sinusoidal)\n",
      "RoBERTa positional embeddings: True\n",
      "BERTweet positional embeddings: True\n"
     ]
    }
   ],
   "source": [
    "from transformers import AutoModel, AutoConfig\n",
    "import torch\n",
    "\n",
    "# Define the model names\n",
    "model_roberta = \"cardiffnlp/twitter-roberta-base-offensive\"\n",
    "model_bertweet = \"medoxz543/hate-speech\"\n",
    "\n",
    "# Load models and configs\n",
    "model_r = AutoModel.from_pretrained(model_roberta)\n",
    "model_b = AutoModel.from_pretrained(model_bertweet)\n",
    "\n",
    "config_r = model_r.config\n",
    "config_b = model_b.config\n",
    "\n",
    "# Basic details\n",
    "print(\"\\n📌 Base Classes\")\n",
    "print(\"RoBERTa base model:\", model_r.base_model.__class__)\n",
    "print(\"BERTweet base model:\", model_b.base_model.__class__)\n",
    "\n",
    "print(\"\\n📌 Number of Parameters\")\n",
    "print(\"RoBERTa total parameters:\", sum(p.numel() for p in model_r.parameters()) / 1e6, \"M\")\n",
    "print(\"BERTweet total parameters:\", sum(p.numel() for p in model_b.parameters()) / 1e6, \"M\")\n",
    "\n",
    "print(\"\\n📌 Core Config Comparison\")\n",
    "for key in [\"hidden_size\", \"num_attention_heads\", \"num_hidden_layers\", \"intermediate_size\",\n",
    "            \"vocab_size\", \"max_position_embeddings\", \"type_vocab_size\", \"layer_norm_eps\"]:\n",
    "    print(f\"{key:>30}: RoBERTa={getattr(config_r, key)} | BERTweet={getattr(config_b, key)}\")\n",
    "\n",
    "print(\"\\n📌 Dropout and Activation\")\n",
    "print(f\"hidden_dropout_prob    : RoBERTa={config_r.hidden_dropout_prob} | BERTweet={config_b.hidden_dropout_prob}\")\n",
    "print(f\"attention_dropout_prob : RoBERTa={config_r.attention_probs_dropout_prob} | BERTweet={config_b.attention_probs_dropout_prob}\")\n",
    "print(f\"hidden_act             : RoBERTa={config_r.hidden_act} | BERTweet={config_b.hidden_act}\")\n",
    "\n",
    "print(\"\\n📌 Positional Embeddings Type (RoBERTa has sinusoidal)\")\n",
    "print(\"RoBERTa positional embeddings:\", hasattr(model_r.embeddings, 'position_embeddings'))\n",
    "print(\"BERTweet positional embeddings:\", hasattr(model_b.embeddings, 'position_embeddings'))\n"
   ]
  },
  {
   "cell_type": "code",
   "execution_count": 10,
   "id": "8a722150",
   "metadata": {},
   "outputs": [
    {
     "data": {
      "text/html": [
       "<div>\n",
       "<style scoped>\n",
       "    .dataframe tbody tr th:only-of-type {\n",
       "        vertical-align: middle;\n",
       "    }\n",
       "\n",
       "    .dataframe tbody tr th {\n",
       "        vertical-align: top;\n",
       "    }\n",
       "\n",
       "    .dataframe thead th {\n",
       "        text-align: right;\n",
       "    }\n",
       "</style>\n",
       "<table border=\"1\" class=\"dataframe\">\n",
       "  <thead>\n",
       "    <tr style=\"text-align: right;\">\n",
       "      <th></th>\n",
       "      <th>id</th>\n",
       "      <th>dataset</th>\n",
       "      <th>text</th>\n",
       "      <th>toxicity</th>\n",
       "      <th>sexist</th>\n",
       "      <th>of_id</th>\n",
       "    </tr>\n",
       "  </thead>\n",
       "  <tbody>\n",
       "    <tr>\n",
       "      <th>0</th>\n",
       "      <td>0</td>\n",
       "      <td>other</td>\n",
       "      <td>MENTION3481 i didn't even know random was an o...</td>\n",
       "      <td>0.118180</td>\n",
       "      <td>False</td>\n",
       "      <td>-1</td>\n",
       "    </tr>\n",
       "    <tr>\n",
       "      <th>1</th>\n",
       "      <td>1</td>\n",
       "      <td>other</td>\n",
       "      <td>Bottom two should've gone!  #mkr</td>\n",
       "      <td>0.251850</td>\n",
       "      <td>False</td>\n",
       "      <td>-1</td>\n",
       "    </tr>\n",
       "    <tr>\n",
       "      <th>2</th>\n",
       "      <td>2</td>\n",
       "      <td>callme</td>\n",
       "      <td>MENTION3111 MENTION3424 ladyboner deserves so ...</td>\n",
       "      <td>0.113331</td>\n",
       "      <td>False</td>\n",
       "      <td>-1</td>\n",
       "    </tr>\n",
       "    <tr>\n",
       "      <th>3</th>\n",
       "      <td>3</td>\n",
       "      <td>other</td>\n",
       "      <td>She shall now be known as Sourpuss #MKR #KatAn...</td>\n",
       "      <td>0.531153</td>\n",
       "      <td>False</td>\n",
       "      <td>-1</td>\n",
       "    </tr>\n",
       "    <tr>\n",
       "      <th>4</th>\n",
       "      <td>4</td>\n",
       "      <td>other</td>\n",
       "      <td>Tarah W threw a bunch of women under the bus s...</td>\n",
       "      <td>0.118718</td>\n",
       "      <td>False</td>\n",
       "      <td>-1</td>\n",
       "    </tr>\n",
       "    <tr>\n",
       "      <th>...</th>\n",
       "      <td>...</td>\n",
       "      <td>...</td>\n",
       "      <td>...</td>\n",
       "      <td>...</td>\n",
       "      <td>...</td>\n",
       "      <td>...</td>\n",
       "    </tr>\n",
       "    <tr>\n",
       "      <th>13626</th>\n",
       "      <td>13630</td>\n",
       "      <td>callme</td>\n",
       "      <td>this reminds me of the MENTION3079 situation; ...</td>\n",
       "      <td>0.147044</td>\n",
       "      <td>False</td>\n",
       "      <td>-1</td>\n",
       "    </tr>\n",
       "    <tr>\n",
       "      <th>13627</th>\n",
       "      <td>13631</td>\n",
       "      <td>other</td>\n",
       "      <td>#mkr I love Annie and loyld there like a real ...</td>\n",
       "      <td>0.213106</td>\n",
       "      <td>False</td>\n",
       "      <td>-1</td>\n",
       "    </tr>\n",
       "    <tr>\n",
       "      <th>13628</th>\n",
       "      <td>13632</td>\n",
       "      <td>other</td>\n",
       "      <td>No u. http://t.co/zOr0eWahSS</td>\n",
       "      <td>0.324702</td>\n",
       "      <td>False</td>\n",
       "      <td>-1</td>\n",
       "    </tr>\n",
       "    <tr>\n",
       "      <th>13629</th>\n",
       "      <td>13633</td>\n",
       "      <td>other</td>\n",
       "      <td>#mkr the way kat looks at Annie is like she's ...</td>\n",
       "      <td>0.563036</td>\n",
       "      <td>False</td>\n",
       "      <td>-1</td>\n",
       "    </tr>\n",
       "    <tr>\n",
       "      <th>13630</th>\n",
       "      <td>13634</td>\n",
       "      <td>other</td>\n",
       "      <td>#mkr omg the kiss stains on the \"dirty\" mirror...</td>\n",
       "      <td>0.530917</td>\n",
       "      <td>False</td>\n",
       "      <td>-1</td>\n",
       "    </tr>\n",
       "  </tbody>\n",
       "</table>\n",
       "<p>13631 rows × 6 columns</p>\n",
       "</div>"
      ],
      "text/plain": [
       "          id dataset                                               text  \\\n",
       "0          0   other  MENTION3481 i didn't even know random was an o...   \n",
       "1          1   other                   Bottom two should've gone!  #mkr   \n",
       "2          2  callme  MENTION3111 MENTION3424 ladyboner deserves so ...   \n",
       "3          3   other  She shall now be known as Sourpuss #MKR #KatAn...   \n",
       "4          4   other  Tarah W threw a bunch of women under the bus s...   \n",
       "...      ...     ...                                                ...   \n",
       "13626  13630  callme  this reminds me of the MENTION3079 situation; ...   \n",
       "13627  13631   other  #mkr I love Annie and loyld there like a real ...   \n",
       "13628  13632   other                       No u. http://t.co/zOr0eWahSS   \n",
       "13629  13633   other  #mkr the way kat looks at Annie is like she's ...   \n",
       "13630  13634   other  #mkr omg the kiss stains on the \"dirty\" mirror...   \n",
       "\n",
       "       toxicity  sexist  of_id  \n",
       "0      0.118180   False     -1  \n",
       "1      0.251850   False     -1  \n",
       "2      0.113331   False     -1  \n",
       "3      0.531153   False     -1  \n",
       "4      0.118718   False     -1  \n",
       "...         ...     ...    ...  \n",
       "13626  0.147044   False     -1  \n",
       "13627  0.213106   False     -1  \n",
       "13628  0.324702   False     -1  \n",
       "13629  0.563036   False     -1  \n",
       "13630  0.530917   False     -1  \n",
       "\n",
       "[13631 rows x 6 columns]"
      ]
     },
     "execution_count": 10,
     "metadata": {},
     "output_type": "execute_result"
    }
   ],
   "source": [
    "import pandas as pd\n",
    "\n",
    "df = pd.read_csv(\"data/sexism/sexism_data.csv\")\n",
    "df"
   ]
  }
 ],
 "metadata": {
  "kernelspec": {
   "display_name": "Python 3",
   "language": "python",
   "name": "python3"
  },
  "language_info": {
   "codemirror_mode": {
    "name": "ipython",
    "version": 3
   },
   "file_extension": ".py",
   "mimetype": "text/x-python",
   "name": "python",
   "nbconvert_exporter": "python",
   "pygments_lexer": "ipython3",
   "version": "3.12.5"
  }
 },
 "nbformat": 4,
 "nbformat_minor": 5
}
