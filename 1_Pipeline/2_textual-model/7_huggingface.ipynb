{
 "cells": [
  {
   "cell_type": "code",
   "execution_count": null,
   "id": "4679266e",
   "metadata": {},
   "outputs": [],
   "source": [
    "from huggingface_hub import login, HfApi\n",
    "from transformers import BertweetTokenizer\n",
    "import os"
   ]
  },
  {
   "cell_type": "code",
   "execution_count": null,
   "id": "c7ad7383",
   "metadata": {},
   "outputs": [
    {
     "data": {
      "application/vnd.jupyter.widget-view+json": {
       "model_id": "ccb53076405d4a5486f655bbd977ae91",
       "version_major": 2,
       "version_minor": 0
      },
      "text/plain": [
       "VBox(children=(HTML(value='<center> <img\\nsrc=https://huggingface.co/front/assets/huggingface_logo-noborder.sv…"
      ]
     },
     "metadata": {},
     "output_type": "display_data"
    }
   ],
   "source": [
    "login()"
   ]
  },
  {
   "cell_type": "code",
   "execution_count": 4,
   "id": "6d1b2ce9",
   "metadata": {},
   "outputs": [
    {
     "data": {
      "application/vnd.jupyter.widget-view+json": {
       "model_id": "d57464d3585149be94fb937d0e879789",
       "version_major": 2,
       "version_minor": 0
      },
      "text/plain": [
       "model.safetensors:   0%|          | 0.00/540M [00:00<?, ?B/s]"
      ]
     },
     "metadata": {},
     "output_type": "display_data"
    },
    {
     "data": {
      "text/plain": [
       "CommitInfo(commit_url='https://huggingface.co/medoxz543/hate-speech/commit/4bbd99fb1d14f261082da62fdb00457472e87895', commit_message='Upload folder using huggingface_hub', commit_description='', oid='4bbd99fb1d14f261082da62fdb00457472e87895', pr_url=None, repo_url=RepoUrl('https://huggingface.co/medoxz543/hate-speech', endpoint='https://huggingface.co', repo_type='model', repo_id='medoxz543/hate-speech'), pr_revision=None, pr_num=None)"
      ]
     },
     "execution_count": 4,
     "metadata": {},
     "output_type": "execute_result"
    }
   ],
   "source": [
    "api = HfApi(token=os.getenv(\"HF_TOKEN\"))\n",
    "api.upload_folder(\n",
    "    folder_path=\"artifacts/final_model-v5\",\n",
    "    repo_id=\"medoxz543/hate-speech\",\n",
    "    repo_type=\"model\",\n",
    ")"
   ]
  },
  {
   "cell_type": "code",
   "execution_count": null,
   "id": "37b35379",
   "metadata": {},
   "outputs": [
    {
     "name": "stdout",
     "output_type": "stream",
     "text": [
      "✅ Tokenizer saved to 'bertweet_tokenizer/' folder.\n"
     ]
    }
   ],
   "source": [
    "# Load the original pretrained BERTweet tokenizer\n",
    "tokenizer = BertweetTokenizer.from_pretrained(\"vinai/bertweet-base\")\n",
    "\n",
    "# Save tokenizer files to a directory\n",
    "tokenizer.save_pretrained(\"tokenizer/bertweet_tokenizer\")\n",
    "\n",
    "print(\"✅ Tokenizer saved to 'bertweet_tokenizer/' folder.\")"
   ]
  }
 ],
 "metadata": {
  "kernelspec": {
   "display_name": "Python 3",
   "language": "python",
   "name": "python3"
  },
  "language_info": {
   "codemirror_mode": {
    "name": "ipython",
    "version": 3
   },
   "file_extension": ".py",
   "mimetype": "text/x-python",
   "name": "python",
   "nbconvert_exporter": "python",
   "pygments_lexer": "ipython3",
   "version": "3.12.5"
  }
 },
 "nbformat": 4,
 "nbformat_minor": 5
}
