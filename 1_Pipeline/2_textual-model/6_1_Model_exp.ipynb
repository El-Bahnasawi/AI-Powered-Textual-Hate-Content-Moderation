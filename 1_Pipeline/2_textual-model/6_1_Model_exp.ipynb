{
 "cells": [
  {
   "cell_type": "code",
   "execution_count": 1,
   "id": "eb4917b4",
   "metadata": {},
   "outputs": [],
   "source": [
    "import torch\n",
    "from transformers import AutoModelForSequenceClassification, AutoTokenizer, BitsAndBytesConfig\n",
    "import wandb\n",
    "from tabulate import tabulate"
   ]
  },
  {
   "cell_type": "markdown",
   "id": "68b38d0b",
   "metadata": {},
   "source": [
    "# Model Exploration\n",
    "##### 🧠 Full Layer Tree – `RobertaForSequenceClassification` *(BERTweet-style)*"
   ]
  },
  {
   "cell_type": "markdown",
   "id": "65e36d95",
   "metadata": {},
   "source": [
    "<pre>\n",
    "RobertaForSequenceClassification\n",
    "├── roberta : RobertaModel\n",
    "│   ├── embeddings : RobertaEmbeddings\n",
    "│   │   ├── word_embeddings         : Embedding(64001, 768)\n",
    "│   │   ├── position_embeddings     : Embedding(130, 768)\n",
    "│   │   ├── token_type_embeddings   : Embedding(1, 768)\n",
    "│   │   ├── LayerNorm               : LayerNorm((768,))\n",
    "│   │   └── dropout                 : Dropout(p=0.1)\n",
    "│   └── encoder : RobertaEncoder\n",
    "│       └── layer : ModuleList (12 × RobertaLayer)\n",
    "│           ├── attention : RobertaAttention\n",
    "│           │   ├── self : RobertaSdpaSelfAttention\n",
    "│           │   │   ├── query       : Linear(768 → 768)\n",
    "│           │   │   ├── key         : Linear(768 → 768)\n",
    "│           │   │   ├── value       : Linear(768 → 768)\n",
    "│           │   │   └── dropout     : Dropout(p=0.1)\n",
    "│           │   └── output : RobertaSelfOutput\n",
    "│           │       ├── dense       : Linear(768 → 768)     🟢 attention.output.dense\n",
    "│           │       ├── LayerNorm   : LayerNorm((768,))\n",
    "│           │       └── dropout     : Dropout(p=0.1)\n",
    "│           ├── intermediate : RobertaIntermediate\n",
    "│           │   ├── dense       : Linear(768 → 3072)\n",
    "│           │   └── activation  : GELU\n",
    "│           └── output : RobertaOutput\n",
    "│               ├── dense       : Linear(3072 → 768)        🔵 feedforward output.dense\n",
    "│               ├── LayerNorm   : LayerNorm((768,))\n",
    "│               └── dropout     : Dropout(p=0.1)\n",
    "├── classifier : RobertaClassificationHead\n",
    "│   ├── dense       : Linear(768 → 768)\n",
    "│   ├── dropout     : Dropout(p=0.1)\n",
    "│   └── out_proj    : Linear(768 → 2)\n",
    "</pre>"
   ]
  },
  {
   "cell_type": "code",
   "execution_count": 2,
   "id": "2d2fbdee",
   "metadata": {},
   "outputs": [
    {
     "name": "stderr",
     "output_type": "stream",
     "text": [
      "Some weights of RobertaForSequenceClassification were not initialized from the model checkpoint at vinai/bertweet-base and are newly initialized: ['classifier.dense.bias', 'classifier.dense.weight', 'classifier.out_proj.bias', 'classifier.out_proj.weight']\n",
      "You should probably TRAIN this model on a down-stream task to be able to use it for predictions and inference.\n"
     ]
    },
    {
     "name": "stdout",
     "output_type": "stream",
     "text": [
      "\n",
      "Section      |          Params | % of Total | Description\n",
      "-----------------------------------------------------------------\n",
      "embeddings   |      49,254,912 |     36.51% | Token, position & type embeddings\n",
      "encoder      |      85,054,464 |     63.05% | 12-layer Transformer blocks\n",
      "classifier   |         592,130 |      0.44% | Dense layers for classification\n",
      "others       |               0 |      0.00% | Extra/unclassified modules\n",
      "total        |     134,901,506 |    100.00% | Sum of all trainable params\n"
     ]
    }
   ],
   "source": [
    "# Load the BERTweet model\n",
    "model = AutoModelForSequenceClassification.from_pretrained(\"vinai/bertweet-base\", num_labels=2)\n",
    "\n",
    "# Description for each section\n",
    "descriptions = {\n",
    "    \"embeddings\": \"Token, position & type embeddings\",\n",
    "    \"encoder\": \"12-layer Transformer blocks\",\n",
    "    \"classifier\": \"Dense layers for classification\",\n",
    "    \"others\": \"Extra/unclassified modules\",\n",
    "    \"total\": \"Sum of all trainable params\"\n",
    "}\n",
    "\n",
    "# Initialize counters\n",
    "param_counts = {k: 0 for k in descriptions}\n",
    "\n",
    "# Count trainable parameters\n",
    "for name, param in model.named_parameters():\n",
    "    if param.requires_grad:\n",
    "        n = param.numel()\n",
    "        if \"embeddings\" in name:\n",
    "            param_counts[\"embeddings\"] += n\n",
    "        elif \"encoder\" in name:\n",
    "            param_counts[\"encoder\"] += n\n",
    "        elif \"classifier\" in name:\n",
    "            param_counts[\"classifier\"] += n\n",
    "        else:\n",
    "            param_counts[\"others\"] += n\n",
    "        param_counts[\"total\"] += n\n",
    "\n",
    "# Print the formatted table\n",
    "print()\n",
    "print(f\"{'Section':<12} | {'Params':>15} | {'% of Total':>10} | Description\")\n",
    "print(\"-\" * 65)\n",
    "for section, count in param_counts.items():\n",
    "    percentage = (count / param_counts[\"total\"]) * 100 if section != \"total\" else 100\n",
    "    print(f\"{section:<12} | {count:>15,} | {percentage:>9.2f}% | {descriptions[section]}\")"
   ]
  }
 ],
 "metadata": {
  "kernelspec": {
   "display_name": "Python 3",
   "language": "python",
   "name": "python3"
  },
  "language_info": {
   "codemirror_mode": {
    "name": "ipython",
    "version": 3
   },
   "file_extension": ".py",
   "mimetype": "text/x-python",
   "name": "python",
   "nbconvert_exporter": "python",
   "pygments_lexer": "ipython3",
   "version": "3.12.5"
  }
 },
 "nbformat": 4,
 "nbformat_minor": 5
}
